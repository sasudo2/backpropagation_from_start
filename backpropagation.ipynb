{
 "cells": [
  {
   "cell_type": "code",
   "execution_count": 1,
   "id": "bdf0f59b",
   "metadata": {},
   "outputs": [],
   "source": [
    "import pandas as pd\n",
    "import numpy as np"
   ]
  },
  {
   "cell_type": "code",
   "execution_count": 2,
   "id": "56776f3c",
   "metadata": {},
   "outputs": [
    {
     "name": "stdout",
     "output_type": "stream",
     "text": [
      "(10000, 784)\n"
     ]
    }
   ],
   "source": [
    "test = pd.read_csv(\"./archive_mnist/mnist_test.csv\")\n",
    "train = pd.read_csv(\"./archive_mnist/mnist_train.csv\")\n",
    "\n",
    "test_x = np.array(test.iloc[:, 1:])/255\n",
    "test_y = np.array(test.iloc[:, 0])\n",
    "train_x = np.array(train.iloc[:, 1:])/255\n",
    "train_y = np.array(train.iloc[:, 0])\n",
    "print(np.shape(test_x))"
   ]
  },
  {
   "cell_type": "code",
   "execution_count": 3,
   "id": "e9a76d02",
   "metadata": {},
   "outputs": [],
   "source": [
    "class FNN:\n",
    "    def __init__(self, structure):\n",
    "        if isinstance(structure, list)!=True:\n",
    "            raise ValueError(\"input should be a list of layer sizes\")\n",
    "        self.struct = structure\n",
    "        self.num_layers = len(structure)-1\n",
    "        self.w = list()\n",
    "        self.b = list()\n",
    "        for i in range(self.num_layers):\n",
    "            self.w.append((np.random.rand(structure[i], structure[i+1]) - 0.5)*0.01)\n",
    "            self.b.append(np.zeros((1, structure[i+1])))\n",
    "\n",
    "    def forward_propagation(self, X):\n",
    "        a = X\n",
    "        A = list()\n",
    "        Z = list()\n",
    "        A.append(a)\n",
    "        for i in range(self.num_layers):\n",
    "            z = a@self.w[i] + self.b[i]\n",
    "            Z.append(z)\n",
    "            if i == self.num_layers-1:\n",
    "                a = self.softmax(z)\n",
    "            else:\n",
    "                a = self.relu(z)\n",
    "            A.append(a)\n",
    "        return Z, A\n",
    "    \n",
    "    def backward_propagation(self, Z, A, y, learning_rate):\n",
    "        delta = [None] * self.num_layers\n",
    "        \n",
    "        for i in reversed(range(self.num_layers)):\n",
    "            if i == self.num_layers-1:\n",
    "                # Output layer\n",
    "                delta[i] = A[-1] - y\n",
    "            else:\n",
    "                # Hidden layers\n",
    "                delta[i] = delta[i+1] @ self.w[i+1].T * self.relu_deri(Z[i])\n",
    "            \n",
    "            # Weight gradient: input_to_layer @ delta\n",
    "            dw = A[i].T @ delta[i]  # A[i] is input to layer i\n",
    "            \n",
    "            # Bias gradient: sum delta across batch\n",
    "            db = np.sum(np.array(delta[i]), axis=0, keepdims=True)\n",
    "            \n",
    "            # Update weights immediately\n",
    "            self.w[i] -= learning_rate * dw\n",
    "            self.b[i] -= learning_rate * db\n",
    "    \n",
    "    def predict(self, X):\n",
    "        _, A = self.forward_propagation(X)\n",
    "        return np.argmax(A[-1])\n",
    "    \n",
    "    def train(self, X, Y, learning_rate = 0.005):\n",
    "        Z, A = self.forward_propagation(X)\n",
    "        y = self.one_hot_encoding(Y)\n",
    "        self.backward_propagation(Z, A, y, learning_rate)\n",
    "    \n",
    "    def relu(self, z):\n",
    "        return np.maximum(0, z)\n",
    "    \n",
    "    def relu_deri(self, z):\n",
    "        return np.where(0 < z, 1, 0)\n",
    "    \n",
    "    def softmax(self, z):\n",
    "        exp_z = np.exp(z - np.max(z, axis=1, keepdims=True))\n",
    "        return exp_z / np.sum(exp_z, axis=1, keepdims=True)\n",
    "    \n",
    "    def one_hot_encoding(self, Y):\n",
    "        y = np.zeros((1, self.struct[-1]))\n",
    "        y[0, Y] = 1\n",
    "        return y\n",
    "\n",
    "    def __str__(self):\n",
    "        return str(self.w)"
   ]
  },
  {
   "cell_type": "code",
   "execution_count": 6,
   "id": "bb3febe8",
   "metadata": {},
   "outputs": [
    {
     "name": "stdout",
     "output_type": "stream",
     "text": [
      "1\n",
      "4\n"
     ]
    }
   ],
   "source": [
    "network1 = FNN([784, 10, 10, 10])\n",
    "for i in range(5000):\n",
    "    network1.train(train_x[i:i+1], train_y[i])\n",
    "\n",
    "print(network1.predict(test_x[1300:1301]))\n",
    "print(test_y[1300])"
   ]
  }
 ],
 "metadata": {
  "kernelspec": {
   "display_name": "3.12.10",
   "language": "python",
   "name": "python3"
  },
  "language_info": {
   "codemirror_mode": {
    "name": "ipython",
    "version": 3
   },
   "file_extension": ".py",
   "mimetype": "text/x-python",
   "name": "python",
   "nbconvert_exporter": "python",
   "pygments_lexer": "ipython3",
   "version": "3.12.10"
  }
 },
 "nbformat": 4,
 "nbformat_minor": 5
}
